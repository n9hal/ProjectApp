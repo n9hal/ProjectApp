{
 "cells": [
  {
   "cell_type": "code",
   "execution_count": 18,
   "id": "reduced-finance",
   "metadata": {},
   "outputs": [],
   "source": [
    "import pandas as pd\n",
    "import numpy as np\n",
    "import tensorflow as tf\n",
    "from sklearn.metrics import classification_report, confusion_matrix, accuracy_score,plot_confusion_matrix\n",
    "from sklearn.model_selection import train_test_split\n",
    "from sklearn.feature_extraction.text import TfidfVectorizer\n",
    "from sklearn.pipeline import Pipeline \n",
    "from sklearn.linear_model import PassiveAggressiveClassifier\n",
    "from sklearn.naive_bayes import MultinomialNB"
   ]
  },
  {
   "cell_type": "code",
   "execution_count": 2,
   "id": "handled-difficulty",
   "metadata": {},
   "outputs": [],
   "source": [
    "##Data Load\n",
    "dataset = pd.read_csv('dataset_modified.csv')\n",
    "\n",
    "##Take neccessarry columns\n",
    "text = dataset['text']\n",
    "label = dataset['label']"
   ]
  },
  {
   "cell_type": "code",
   "execution_count": 3,
   "id": "diagnostic-andorra",
   "metadata": {
    "scrolled": true
   },
   "outputs": [
    {
     "data": {
      "text/html": [
       "<div>\n",
       "<style scoped>\n",
       "    .dataframe tbody tr th:only-of-type {\n",
       "        vertical-align: middle;\n",
       "    }\n",
       "\n",
       "    .dataframe tbody tr th {\n",
       "        vertical-align: top;\n",
       "    }\n",
       "\n",
       "    .dataframe thead th {\n",
       "        text-align: right;\n",
       "    }\n",
       "</style>\n",
       "<table border=\"1\" class=\"dataframe\">\n",
       "  <thead>\n",
       "    <tr style=\"text-align: right;\">\n",
       "      <th></th>\n",
       "      <th>Unnamed: 0</th>\n",
       "      <th>title</th>\n",
       "      <th>text</th>\n",
       "      <th>subject</th>\n",
       "      <th>date</th>\n",
       "      <th>label</th>\n",
       "    </tr>\n",
       "  </thead>\n",
       "  <tbody>\n",
       "    <tr>\n",
       "      <th>0</th>\n",
       "      <td>23698</td>\n",
       "      <td>House intel panel chief says did not meet Trum...</td>\n",
       "      <td>WASHINGTON (Reuters) - U.S. House Intelligence...</td>\n",
       "      <td>politicsNews</td>\n",
       "      <td>March 27, 2017</td>\n",
       "      <td>1.0</td>\n",
       "    </tr>\n",
       "    <tr>\n",
       "      <th>1</th>\n",
       "      <td>28188</td>\n",
       "      <td>JUDGE NAPOLITANO: Samsung Allowed British Inte...</td>\n",
       "      <td>.@Judgenap: Samsung allowed British intelligen...</td>\n",
       "      <td>left-news</td>\n",
       "      <td>Mar 9, 2017</td>\n",
       "      <td>0.0</td>\n",
       "    </tr>\n",
       "    <tr>\n",
       "      <th>2</th>\n",
       "      <td>41061</td>\n",
       "      <td>ATLANTA: PANDEMONIUM As World’s Largest Airpor...</td>\n",
       "      <td>There has to something more to this story than...</td>\n",
       "      <td>politics</td>\n",
       "      <td>Dec 17, 2017</td>\n",
       "      <td>0.0</td>\n",
       "    </tr>\n",
       "    <tr>\n",
       "      <th>3</th>\n",
       "      <td>36180</td>\n",
       "      <td>Brazil prosecutors seek to extend Batista dete...</td>\n",
       "      <td>SAO PAULO (Reuters) - The Office of Brazil s P...</td>\n",
       "      <td>worldnews</td>\n",
       "      <td>September 14, 2017</td>\n",
       "      <td>1.0</td>\n",
       "    </tr>\n",
       "    <tr>\n",
       "      <th>4</th>\n",
       "      <td>40515</td>\n",
       "      <td>CHARLES BARKLEY Says Anyone Who Criticizes Oba...</td>\n",
       "      <td>On March 20, 2016 Barkley had this to say abou...</td>\n",
       "      <td>left-news</td>\n",
       "      <td>Apr 8, 2016</td>\n",
       "      <td>0.0</td>\n",
       "    </tr>\n",
       "  </tbody>\n",
       "</table>\n",
       "</div>"
      ],
      "text/plain": [
       "   Unnamed: 0                                              title  \\\n",
       "0       23698  House intel panel chief says did not meet Trum...   \n",
       "1       28188  JUDGE NAPOLITANO: Samsung Allowed British Inte...   \n",
       "2       41061  ATLANTA: PANDEMONIUM As World’s Largest Airpor...   \n",
       "3       36180  Brazil prosecutors seek to extend Batista dete...   \n",
       "4       40515  CHARLES BARKLEY Says Anyone Who Criticizes Oba...   \n",
       "\n",
       "                                                text       subject  \\\n",
       "0  WASHINGTON (Reuters) - U.S. House Intelligence...  politicsNews   \n",
       "1  .@Judgenap: Samsung allowed British intelligen...     left-news   \n",
       "2  There has to something more to this story than...      politics   \n",
       "3  SAO PAULO (Reuters) - The Office of Brazil s P...     worldnews   \n",
       "4  On March 20, 2016 Barkley had this to say abou...     left-news   \n",
       "\n",
       "                  date  label  \n",
       "0      March 27, 2017     1.0  \n",
       "1          Mar 9, 2017    0.0  \n",
       "2         Dec 17, 2017    0.0  \n",
       "3  September 14, 2017     1.0  \n",
       "4          Apr 8, 2016    0.0  "
      ]
     },
     "execution_count": 3,
     "metadata": {},
     "output_type": "execute_result"
    }
   ],
   "source": [
    "dataset.head()"
   ]
  },
  {
   "cell_type": "code",
   "execution_count": 4,
   "id": "technological-story",
   "metadata": {},
   "outputs": [
    {
     "data": {
      "text/plain": [
       "(53458, 6)"
      ]
     },
     "execution_count": 4,
     "metadata": {},
     "output_type": "execute_result"
    }
   ],
   "source": [
    "dataset.shape\n"
   ]
  },
  {
   "cell_type": "code",
   "execution_count": null,
   "id": "joint-cruise",
   "metadata": {},
   "outputs": [],
   "source": []
  },
  {
   "cell_type": "code",
   "execution_count": 5,
   "id": "designed-heritage",
   "metadata": {},
   "outputs": [],
   "source": [
    "##divide data into sets\n",
    "####1 training set\n",
    "##2 test set\n",
    "x_train, x_test, y_train, y_test= train_test_split(text ,label , test_size=0.2)\n"
   ]
  },
  {
   "cell_type": "code",
   "execution_count": 6,
   "id": "sound-villa",
   "metadata": {},
   "outputs": [],
   "source": [
    "# tfidfvectorizer : term frequency inverse document ffreq. that define importance of keyword in web page\n",
    "##remove stopwords (commonly appear words in webpage )\n",
    "tfidf_vectorizer = TfidfVectorizer(stop_words='english', max_df=0.7)\n",
    "tfidf_train = tfidf_vectorizer.fit_transform(x_train)\n",
    "tfidf_test = tfidf_vectorizer.transform(x_test)"
   ]
  },
  {
   "cell_type": "code",
   "execution_count": 7,
   "id": "fossil-watson",
   "metadata": {},
   "outputs": [
    {
     "name": "stdout",
     "output_type": "stream",
     "text": [
      "98.16685372240927\n"
     ]
    }
   ],
   "source": [
    "## model\n",
    "## pac is online learning algo. THAT reminds passive card classification and turns aggreasive/miscalculation\n",
    "##used to calculate accuracy score\n",
    "pac = PassiveAggressiveClassifier(max_iter=50)\n",
    "pac.fit(tfidf_train, y_train)\n",
    "y_pred = pac.predict(tfidf_test)\n",
    "score = accuracy_score(y_test, y_pred)\n",
    "accuracy = score*100\n",
    "print (accuracy)"
   ]
  },
  {
   "cell_type": "code",
   "execution_count": 8,
   "id": "sorted-insured",
   "metadata": {},
   "outputs": [],
   "source": [
    "#pipeline utility function \n",
    "##used to train function which is used to train data and transform to text data without \n",
    "#doing it individually when we each time we perform\n",
    "#here also remove the stopwords\n",
    "#apply multinomialNB\n",
    "\n",
    "pline = Pipeline([('tfidf', TfidfVectorizer(stop_words='english')),\n",
    "                    ('nbmodel', MultinomialNB())])"
   ]
  },
  {
   "cell_type": "code",
   "execution_count": 9,
   "id": "alone-accent",
   "metadata": {},
   "outputs": [
    {
     "data": {
      "text/plain": [
       "Pipeline(steps=[('tfidf', TfidfVectorizer(stop_words='english')),\n",
       "                ('nbmodel', MultinomialNB())])"
      ]
     },
     "execution_count": 9,
     "metadata": {},
     "output_type": "execute_result"
    }
   ],
   "source": [
    "#train data\n",
    "\n",
    "pline.fit(x_train, y_train)"
   ]
  },
  {
   "cell_type": "code",
   "execution_count": 10,
   "id": "prerequisite-premiere",
   "metadata": {},
   "outputs": [
    {
     "name": "stdout",
     "output_type": "stream",
     "text": [
      "accuracy 92.47100635989524\n"
     ]
    }
   ],
   "source": [
    "acc_score= pline.score(x_test, y_test)\n",
    "accuracy = acc_score*100\n",
    "print ('accuracy',accuracy)"
   ]
  },
  {
   "cell_type": "code",
   "execution_count": 11,
   "id": "executed-mason",
   "metadata": {},
   "outputs": [
    {
     "name": "stdout",
     "output_type": "stream",
     "text": [
      "              precision    recall  f1-score   support\n",
      "\n",
      "         0.0       0.93      0.93      0.93      5518\n",
      "         1.0       0.92      0.92      0.92      5174\n",
      "\n",
      "    accuracy                           0.92     10692\n",
      "   macro avg       0.92      0.92      0.92     10692\n",
      "weighted avg       0.92      0.92      0.92     10692\n",
      "\n"
     ]
    }
   ],
   "source": [
    "##Report : performance evaluation table\n",
    "pred =pline.predict(x_test)\n",
    "print(classification_report(y_test,pred))"
   ]
  },
  {
   "cell_type": "code",
   "execution_count": 26,
   "id": "arabic-cabin",
   "metadata": {},
   "outputs": [
    {
     "ename": "TypeError",
     "evalue": "plot_confusion_matrix() got an unexpected keyword argument 'label'",
     "output_type": "error",
     "traceback": [
      "\u001b[1;31m---------------------------------------------------------------------------\u001b[0m",
      "\u001b[1;31mTypeError\u001b[0m                                 Traceback (most recent call last)",
      "\u001b[1;32m<ipython-input-26-1298c2a3c99e>\u001b[0m in \u001b[0;36m<module>\u001b[1;34m\u001b[0m\n\u001b[0;32m      4\u001b[0m \u001b[1;32mfrom\u001b[0m \u001b[0msklearn\u001b[0m \u001b[1;32mimport\u001b[0m \u001b[0mmetrics\u001b[0m\u001b[1;33m\u001b[0m\u001b[1;33m\u001b[0m\u001b[0m\n\u001b[0;32m      5\u001b[0m \u001b[0mcon_M\u001b[0m\u001b[1;33m=\u001b[0m \u001b[0mmetrics\u001b[0m\u001b[1;33m.\u001b[0m\u001b[0mconfusion_matrix\u001b[0m\u001b[1;33m(\u001b[0m\u001b[0my_test\u001b[0m\u001b[1;33m,\u001b[0m\u001b[0mpred\u001b[0m\u001b[1;33m)\u001b[0m\u001b[1;33m\u001b[0m\u001b[1;33m\u001b[0m\u001b[0m\n\u001b[1;32m----> 6\u001b[1;33m \u001b[0mplot_confusion_matrix\u001b[0m\u001b[1;33m(\u001b[0m\u001b[0mcon_M\u001b[0m\u001b[1;33m,\u001b[0m \u001b[0mlabel\u001b[0m\u001b[1;33m=\u001b[0m\u001b[1;33m[\u001b[0m\u001b[1;34m'REAL'\u001b[0m\u001b[1;33m,\u001b[0m\u001b[1;34m'FAKE'\u001b[0m\u001b[1;33m]\u001b[0m\u001b[1;33m)\u001b[0m\u001b[1;33m\u001b[0m\u001b[1;33m\u001b[0m\u001b[0m\n\u001b[0m",
      "\u001b[1;32m~\\AppData\\Roaming\\Python\\Python38\\site-packages\\sklearn\\utils\\validation.py\u001b[0m in \u001b[0;36minner_f\u001b[1;34m(*args, **kwargs)\u001b[0m\n\u001b[0;32m     61\u001b[0m             \u001b[0mextra_args\u001b[0m \u001b[1;33m=\u001b[0m \u001b[0mlen\u001b[0m\u001b[1;33m(\u001b[0m\u001b[0margs\u001b[0m\u001b[1;33m)\u001b[0m \u001b[1;33m-\u001b[0m \u001b[0mlen\u001b[0m\u001b[1;33m(\u001b[0m\u001b[0mall_args\u001b[0m\u001b[1;33m)\u001b[0m\u001b[1;33m\u001b[0m\u001b[1;33m\u001b[0m\u001b[0m\n\u001b[0;32m     62\u001b[0m             \u001b[1;32mif\u001b[0m \u001b[0mextra_args\u001b[0m \u001b[1;33m<=\u001b[0m \u001b[1;36m0\u001b[0m\u001b[1;33m:\u001b[0m\u001b[1;33m\u001b[0m\u001b[1;33m\u001b[0m\u001b[0m\n\u001b[1;32m---> 63\u001b[1;33m                 \u001b[1;32mreturn\u001b[0m \u001b[0mf\u001b[0m\u001b[1;33m(\u001b[0m\u001b[1;33m*\u001b[0m\u001b[0margs\u001b[0m\u001b[1;33m,\u001b[0m \u001b[1;33m**\u001b[0m\u001b[0mkwargs\u001b[0m\u001b[1;33m)\u001b[0m\u001b[1;33m\u001b[0m\u001b[1;33m\u001b[0m\u001b[0m\n\u001b[0m\u001b[0;32m     64\u001b[0m \u001b[1;33m\u001b[0m\u001b[0m\n\u001b[0;32m     65\u001b[0m             \u001b[1;31m# extra_args > 0\u001b[0m\u001b[1;33m\u001b[0m\u001b[1;33m\u001b[0m\u001b[1;33m\u001b[0m\u001b[0m\n",
      "\u001b[1;31mTypeError\u001b[0m: plot_confusion_matrix() got an unexpected keyword argument 'label'"
     ]
    }
   ],
   "source": [
    "##Confusion matrix\n",
    "\n",
    "print(confusion_matrix(y_test, pred))"
   ]
  },
  {
   "cell_type": "code",
   "execution_count": null,
   "id": "european-yorkshire",
   "metadata": {},
   "outputs": [],
   "source": [
    "##Convert model into pickle to use in the web app\n",
    "import pickle\n",
    "with open('model_modified.pkl','wb') as handle:\n",
    "    pickle.dump(pline,handle,protocol=pickle.HIGHEST_PROTOCOL)\n"
   ]
  },
  {
   "cell_type": "code",
   "execution_count": null,
   "id": "negative-noise",
   "metadata": {},
   "outputs": [],
   "source": []
  },
  {
   "cell_type": "code",
   "execution_count": null,
   "id": "greater-threshold",
   "metadata": {},
   "outputs": [],
   "source": [
    "loaded_model = pickle.load(open('model_modified.pkl','rb'))\n",
    "result = loaded_model.score(x_test, y_test)\n",
    "print(result)"
   ]
  },
  {
   "cell_type": "code",
   "execution_count": null,
   "id": "convertible-murray",
   "metadata": {},
   "outputs": [],
   "source": []
  }
 ],
 "metadata": {
  "kernelspec": {
   "display_name": "Python 3",
   "language": "python",
   "name": "python3"
  },
  "language_info": {
   "codemirror_mode": {
    "name": "ipython",
    "version": 3
   },
   "file_extension": ".py",
   "mimetype": "text/x-python",
   "name": "python",
   "nbconvert_exporter": "python",
   "pygments_lexer": "ipython3",
   "version": "3.8.8"
  }
 },
 "nbformat": 4,
 "nbformat_minor": 5
}
